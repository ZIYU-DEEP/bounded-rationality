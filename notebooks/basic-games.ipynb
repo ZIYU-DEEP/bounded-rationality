{
 "cells": [
  {
   "cell_type": "code",
   "execution_count": 1,
   "metadata": {
    "ExecuteTime": {
     "end_time": "2023-09-02T15:48:36.575292Z",
     "start_time": "2023-09-02T15:48:36.412161Z"
    }
   },
   "outputs": [],
   "source": [
    "import openai\n",
    "MODEL = 'gpt-4'\n",
    "responses = []"
   ]
  },
  {
   "cell_type": "markdown",
   "metadata": {},
   "source": [
    "# Static Game with Perfect Information"
   ]
  },
  {
   "cell_type": "markdown",
   "metadata": {},
   "source": [
    "<p align=\"center\">\n",
    "  <img src=\"../images/prisoner.jpeg\" alt=\"Description\" width=\"500\">\n",
    "</p>"
   ]
  },
  {
   "cell_type": "code",
   "execution_count": 6,
   "metadata": {
    "ExecuteTime": {
     "end_time": "2023-09-02T15:51:23.382302Z",
     "start_time": "2023-09-02T15:51:23.378467Z"
    }
   },
   "outputs": [],
   "source": [
    "meta_info = ('This is a one-round two-player game. '\n",
    "             'Each player independently and simultaneously chooses one action with certainty from the choice set. '\n",
    "             'When they choose the action, they have no information on the action of the other player. '\n",
    "             'After the choice made, each player receives a numeric reward. '\n",
    "             'The reward depends on the choices made by both players. ')\n",
    "\n",
    "choice_info = ('The choice set for player one contains {A} and {B}. '\n",
    "               'The choice set for player two contains {A} and {B}, as well. ')\n",
    "\n",
    "reward_info = ('Case 1: {Player_1} chooses {A}, {Player_2} chooses {A}. '\n",
    "               'Outcomes for case 1: {Player_1} gets {-8} reward, {Player_2} gets {-8} reward. '\n",
    "               \n",
    "               'Case 2: {Player_1} chooses {A}, {Player_2} chooses {B}. '\n",
    "               'Outcomes for case 1: {Player_1} gets {0} reward, {Player_2} gets {-10} reward. '\n",
    "               \n",
    "               'Case 3: {Player_1} chooses {B}, {Player_2} chooses {A}. '\n",
    "               'Outcomes for case 3: {Player_1} gets {-10} reward, {Player_2} gets {0} reward. '\n",
    "               \n",
    "               'Case 4: {Player_1} chooses {B}, {Player_2} chooses {B}. '\n",
    "               'Outcomes for case 4: {Player_1} gets {-1} reward, {Player_2} gets {-1} reward. '\n",
    "              \n",
    "               'Both players know the reward for the other player in each case. ')\n",
    "\n",
    "goal_info = ('')\n",
    "\n",
    "request_info = ('Now, imagine you are {Player_1}. Which action would you choose? '\n",
    "                'Remember, you are the player. Do not instruct me. '\n",
    "                'In your answer, firstly, you directly tell me about your choice. '\n",
    "                'Then tell me about why you choose that. '\n",
    "                'Be sure to specify your goal. '\n",
    "                'And explain your reasoning step by step. ')\n",
    "\n",
    "hint_info = ('Notice that +0 reward is better than -1 reward.')"
   ]
  },
  {
   "cell_type": "code",
   "execution_count": 7,
   "metadata": {
    "ExecuteTime": {
     "end_time": "2023-09-02T15:51:24.153257Z",
     "start_time": "2023-09-02T15:51:24.150583Z"
    }
   },
   "outputs": [],
   "source": [
    "game_info = meta_info + choice_info + reward_info + goal_info + request_info"
   ]
  },
  {
   "cell_type": "code",
   "execution_count": 8,
   "metadata": {
    "ExecuteTime": {
     "end_time": "2023-09-02T15:51:43.926714Z",
     "start_time": "2023-09-02T15:51:25.350621Z"
    }
   },
   "outputs": [],
   "source": [
    "responses.append(openai.ChatCompletion.create(\n",
    "    model=MODEL,\n",
    "    messages=[{'role': 'system', \n",
    "               'content': 'You are yourself.'},\n",
    "        \n",
    "              {'role': 'user', \n",
    "               'content': game_info}],\n",
    "    temperature=1))"
   ]
  },
  {
   "cell_type": "code",
   "execution_count": 9,
   "metadata": {
    "ExecuteTime": {
     "end_time": "2023-09-02T15:51:45.447857Z",
     "start_time": "2023-09-02T15:51:45.444581Z"
    }
   },
   "outputs": [
    {
     "name": "stdout",
     "output_type": "stream",
     "text": [
      "I would choose action {A}. Here's my reasoning:\n",
      "\n",
      "1. Goal Clarification: My aim is to minimize my losses as the rewards in all these scenarios are negative. Therefore, seeking the maximum reward essentially means choosing the option with the least negative payoff.\n",
      "\n",
      "2. Decision: Considering all the cases, when I choose A, the worst outcome for me is -8 reward (if Player_2 also chooses A), but when I choose B, the worst outcome is -10 reward (if Player_2 chooses A). On the other hand, the best case scenario when I choose A is 0 reward (if Player_2 chooses B), but the best case scenario for choosing B is only -1 reward (if Player_2 also chooses B). Therefore, choosing A provides a better worst case outcome and also a better best case outcome. \n",
      "\n",
      "3. Other Player's Decision: It's a simultaneous move game with no additional information, so I don't know what Player_2 will do. \n",
      "\n",
      "4. Risk Management: Choosing A is the \"safer\" option because the worst that can happen is less bad (-8 versus -10) and the best that can happen is better (0 versus -1). \n",
      "\n",
      "So taking into account the rules of the game, and without having any additional information regarding the intended choice of Player_2, action {A} is overall the best strategy for minimizing my losses, which is my main goal.\n"
     ]
    }
   ],
   "source": [
    "print(responses[-1]['choices'][0]['message'].content)"
   ]
  },
  {
   "cell_type": "markdown",
   "metadata": {},
   "source": [
    "## Dynamic Game with Perfect Information"
   ]
  },
  {
   "cell_type": "markdown",
   "metadata": {},
   "source": [
    "<p align=\"center\">\n",
    "  <img src=\"../images/fight.jpeg\" alt=\"Description\" width=\"500\">\n",
    "</p>"
   ]
  },
  {
   "cell_type": "code",
   "execution_count": 18,
   "metadata": {
    "ExecuteTime": {
     "end_time": "2023-09-02T16:04:40.766908Z",
     "start_time": "2023-09-02T16:04:40.763379Z"
    }
   },
   "outputs": [],
   "source": [
    "meta_info = ('This is a two-player game. '\n",
    "             '{Player_1} chooses one action first. '\n",
    "             '{Player_2} observes the action made by {Player_1}, then chooses an action accordingly. '\n",
    "             'Again, it is very important Player 2 chooses action after {Player_1}. '\n",
    "             'After the choice made, each player receives a numeric reward. '\n",
    "             'The reward depends on the choices made by both players. ')\n",
    "\n",
    "choice_info = ('The choice set for {Player_1} contains {A} and {B}. '\n",
    "               'The choice set for {Player_2} contains {C} and {D}. ')\n",
    "\n",
    "reward_info = ('Case 1: {Player_1} chooses {A}, {Player_2} chooses {C}. '\n",
    "               'Outcomes for case 1: {Player_1} gets {40} reward, {Player_2} gets {50} reward. '\n",
    "               \n",
    "               'Case 2: {Player_1} chooses {A}, {Player_2} chooses {D}. '\n",
    "               'Outcomes for case 1: {Player_1} gets {-10} reward, player two gets {0} reward. '\n",
    "               \n",
    "               'Case 3: {Player_1} chooses {B}, {Player_2} chooses {C}. '\n",
    "               'Outcomes for case 3: {Player_1} gets {0} reward, {Player_2} gets {300} reward. '\n",
    "               \n",
    "               'Case 4: {Player_1} chooses {B}, {Player_2} chooses {D}. '\n",
    "               'Outcomes for case 4: {Player_1} gets {0} reward, {Player_2} gets {300} reward. '\n",
    "              \n",
    "               'Both players know the reward for the other player in each case. ')\n",
    "\n",
    "goal_info = ('')\n",
    "\n",
    "request_info = ('Now, imagine you are {Player_1}. Which action would you choose? '\n",
    "                'Remember, you are the player. Do not instruct me. '\n",
    "                'In your answer, firstly, you directly tell me about your choice. '\n",
    "                'Be sure to specify your goal. '\n",
    "                'And explain your reasoning step by step. ')\n",
    "\n",
    "hint_info = ('')"
   ]
  },
  {
   "cell_type": "code",
   "execution_count": 19,
   "metadata": {
    "ExecuteTime": {
     "end_time": "2023-09-02T16:04:41.391392Z",
     "start_time": "2023-09-02T16:04:41.388792Z"
    }
   },
   "outputs": [],
   "source": [
    "game_info = meta_info + choice_info + reward_info + goal_info + request_info + hint_info"
   ]
  },
  {
   "cell_type": "code",
   "execution_count": 20,
   "metadata": {
    "ExecuteTime": {
     "end_time": "2023-09-02T16:05:00.675697Z",
     "start_time": "2023-09-02T16:04:42.218433Z"
    }
   },
   "outputs": [],
   "source": [
    "responses.append(openai.ChatCompletion.create(\n",
    "    model=MODEL,\n",
    "    messages=[{'role': 'system', \n",
    "               'content': 'You are yourself.'},\n",
    "        \n",
    "              {'role': 'user', \n",
    "               'content': game_info}],\n",
    "    temperature=1))"
   ]
  },
  {
   "cell_type": "code",
   "execution_count": 21,
   "metadata": {
    "ExecuteTime": {
     "end_time": "2023-09-02T16:05:00.707463Z",
     "start_time": "2023-09-02T16:05:00.704627Z"
    }
   },
   "outputs": [
    {
     "name": "stdout",
     "output_type": "stream",
     "text": [
      "As Player 1, my goal would be to maximize the reward I could potentially receive. Understanding that, my choice would be to go for action A.\n",
      "\n",
      "Here is the reasoning behind my decision step by step:\n",
      "\n",
      "1. By taking a look at the possible outcomes, I noticed that choosing B would always reward me with 0 points regardless of the action chosen by Player 2. That would not benefit me at all.\n",
      "\n",
      "2. Deciding on action A is riskier since there is a possibility of receiving a negative reward if Player 2 chooses action D. However, there's also the chance to receive a rewarding 40 points if Player 2 chooses action C after I choose A.\n",
      "\n",
      "3. While I don't have control over Player 2's decision, I have the knowledge that their reward is higher if they choose C (50 points) over D (0 points) when I choose A. This knowledge of the game's payouts could influence them to respond with action C, which maximizes my potential reward.\n",
      "\n",
      "4. Therefore, taking into consideration my goal to obtain the highest reward possible, I would choose action A, hoping that Player 2 selects action C to maximize their own reward as well, thereby benefiting us both. This is a calculated risk I'm willing to take.\n"
     ]
    }
   ],
   "source": [
    "print(responses[-1]['choices'][0]['message'].content)"
   ]
  },
  {
   "cell_type": "markdown",
   "metadata": {},
   "source": [
    "## Static Game with Imperfect Information"
   ]
  },
  {
   "cell_type": "markdown",
   "metadata": {},
   "source": [
    "<p align=\"center\">\n",
    "  <img src=\"../images/propose.jpeg\" alt=\"Description\" width=\"800\">\n",
    "</p>"
   ]
  },
  {
   "cell_type": "code",
   "execution_count": 25,
   "metadata": {
    "ExecuteTime": {
     "end_time": "2023-09-02T16:15:08.170363Z",
     "start_time": "2023-09-02T16:15:08.166468Z"
    }
   },
   "outputs": [],
   "source": [
    "meta_info = ('This is a one-round two-player game. '\n",
    "             'Each player independently and simultaneously chooses one action with certainty from the choice set. '\n",
    "             'When they choose the action, they have no information on the action of the other player. '\n",
    "             'After the choice made, each player receives a numeric reward. '\n",
    "             'The reward depends on the choices made by both players, '\n",
    "             'AND an condition, which could be either {condition_1} or {condition_2}. '\n",
    "             '{Player_1} knows which condition they are in with certainty. '\n",
    "             '{Player_2} do not know that, but {Player_2} can guess the likelihood. ')\n",
    "\n",
    "choice_info = ('The choice set for {Player_1} contains {A} and {B}. '\n",
    "               'The choice set for {Player_2} contains {C} and {D}. ')\n",
    "\n",
    "reward_info = ('Case 1: {Player_1} chooses {A}, {Player_2} chooses {C}. '\n",
    "               'Outcomes for case 1: ' \n",
    "               'If in {condition_1}, {Player_1} gets {100} reward, {Player_2} gets {100} reward. '\n",
    "               'If in {condition_2}, {Player_1} gets {100} reward, {Player_2} gets {-100} reward. '\n",
    "               \n",
    "               'Case 2: {Player_1} chooses {A}, {Player_2} chooses {D}. '\n",
    "               'Outcomes for case 1: ' \n",
    "               'If in {condition_1}, {Player_1} gets {-50} reward, {Player_2} gets {0} reward. '\n",
    "               'If in {condition_2}, {Player_1} gets {-50} reward, {Player_2} gets {0} reward. '\n",
    "               \n",
    "               'Case 3: {Player_1} chooses {B}, {Player_2} chooses {C}. '\n",
    "               'Outcomes for case 1: ' \n",
    "               'If in {condition_1}, {Player_1} gets {0} reward, {Player_2} gets {0} reward. '\n",
    "               'If in {condition_2}, {Player_1} gets {0} reward, {Player_2} gets {0} reward. '\n",
    "               \n",
    "               'Case 4: {Player_1} chooses {B}, {Player_2} chooses {D}. '\n",
    "               'Outcomes for case 1: ' \n",
    "               'If in {condition_1}, {Player_1} gets {0} reward, {Player_2} gets {0} reward. '\n",
    "               'If in {condition_2}, {Player_1} gets {0} reward, {Player_2} gets {0} reward. '\n",
    "              \n",
    "               'Both players know the reward for the other player in each case. ')\n",
    "\n",
    "goal_info = ('')\n",
    "\n",
    "request_info = ('Now, imagine you are {Player_2}. Which action would you choose? '\n",
    "                'Remember, you are the player. Do not instruct me. '\n",
    "                'In your answer, firstly, you directly tell me about your choice. '\n",
    "                'Then tell me about why you choose that. '\n",
    "                'Be sure to specify your goal. '\n",
    "                'And explain your reasoning step by step. ')\n",
    "\n",
    "hint_info = ('Hint: You can assume that you are in {condition_1} with some probability. '\n",
    "             'Then tell me about your assumption on this probability. '\n",
    "             'Also, explicitly me tell me about why you hold this assumption. '\n",
    "             'And answer you choice under such an assumption. ')"
   ]
  },
  {
   "cell_type": "code",
   "execution_count": 26,
   "metadata": {
    "ExecuteTime": {
     "end_time": "2023-09-02T16:15:09.191988Z",
     "start_time": "2023-09-02T16:15:09.189384Z"
    }
   },
   "outputs": [],
   "source": [
    "game_info = meta_info + choice_info + reward_info + goal_info + request_info + hint_info"
   ]
  },
  {
   "cell_type": "code",
   "execution_count": 29,
   "metadata": {
    "ExecuteTime": {
     "end_time": "2023-09-02T16:16:36.654110Z",
     "start_time": "2023-09-02T16:16:18.780636Z"
    }
   },
   "outputs": [],
   "source": [
    "responses.append(openai.ChatCompletion.create(\n",
    "    model=MODEL,\n",
    "    messages=[{'role': 'system', \n",
    "               'content': 'You are yourself.'},\n",
    "        \n",
    "              {'role': 'user', \n",
    "               'content': game_info}],\n",
    "    temperature=1))"
   ]
  },
  {
   "cell_type": "code",
   "execution_count": 30,
   "metadata": {
    "ExecuteTime": {
     "end_time": "2023-09-02T16:16:38.272691Z",
     "start_time": "2023-09-02T16:16:38.269507Z"
    }
   },
   "outputs": [
    {
     "name": "stdout",
     "output_type": "stream",
     "text": [
      "As Player_2, I would choose action D. My goal is to maximize my reward, taking into account both the potential reward and the penalties of each action based on different conditions while considering the likelihood of each condition.\n",
      "\n",
      "Here's my reasoning:\n",
      "\n",
      "First, the biggest potential reward at 100 points for me would only occur if both of us choose action A and C, respectively, under the condition_1. But the risk of losing 100 points is also there if we are under condition_2.\n",
      "\n",
      "Second, if we both choose B and D respectively, I incur no loss or gain no matter the condition we're in.\n",
      "\n",
      "Third, choosing action C given any action by Player_1 always leads to a 0 reward under condition_2. \n",
      "\n",
      "Therefore, to minimize my potential losses while being able to gain some reward, my choice will be action D.\n",
      "\n",
      "In terms of probability, given no information on the likelihood of either condition_1 or condition_2, I will have to assume that they are both equally likely. This assumption is based purely on lack of information and therefore, it's the most reasonable assumption I can make. Considering this, my safest option that could potentially result in a reward without incurring any loss is to choose action D. If the condition_1, I would have a neutral outcome (0 reward), and if condition_2, I could still achieve the same neutral outcome (0 reward). That makes action D the most rational choice given this assumption.\n"
     ]
    }
   ],
   "source": [
    "print(responses[-1]['choices'][0]['message'].content)"
   ]
  }
 ],
 "metadata": {
  "kernelspec": {
   "display_name": "Python 3",
   "language": "python",
   "name": "python3"
  },
  "language_info": {
   "codemirror_mode": {
    "name": "ipython",
    "version": 3
   },
   "file_extension": ".py",
   "mimetype": "text/x-python",
   "name": "python",
   "nbconvert_exporter": "python",
   "pygments_lexer": "ipython3",
   "version": "3.8.2"
  },
  "varInspector": {
   "cols": {
    "lenName": 16,
    "lenType": 16,
    "lenVar": 40
   },
   "kernels_config": {
    "python": {
     "delete_cmd_postfix": "",
     "delete_cmd_prefix": "del ",
     "library": "var_list.py",
     "varRefreshCmd": "print(var_dic_list())"
    },
    "r": {
     "delete_cmd_postfix": ") ",
     "delete_cmd_prefix": "rm(",
     "library": "var_list.r",
     "varRefreshCmd": "cat(var_dic_list()) "
    }
   },
   "types_to_exclude": [
    "module",
    "function",
    "builtin_function_or_method",
    "instance",
    "_Feature"
   ],
   "window_display": false
  }
 },
 "nbformat": 4,
 "nbformat_minor": 4
}
